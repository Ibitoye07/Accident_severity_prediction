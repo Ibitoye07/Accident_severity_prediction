{
 "cells": [
  {
   "cell_type": "code",
   "execution_count": 1,
   "id": "eafddc5e-eb02-40a9-8239-7adb87ebc1a3",
   "metadata": {},
   "outputs": [],
   "source": [
    "import numpy as np\n",
    "import pandas as pd\n",
    "import matplotlib.pyplot as plt\n",
    "import warnings\n",
    "warnings.filterwarnings('ignore')\n",
    "\n",
    "\n",
    "# Neural networks\n",
    "from tensorflow import keras\n",
    "#import tensorflow.keras\n",
    "from tensorflow.keras.models import Sequential\n",
    "from tensorflow.keras.layers import Dense, Dropout\n",
    "\n",
    "pd.set_option('display.max_columns', None)"
   ]
  },
  {
   "cell_type": "code",
   "execution_count": 3,
   "id": "f85ad239-f934-4877-bfcb-36100c8df5af",
   "metadata": {},
   "outputs": [
    {
     "data": {
      "text/html": [
       "<div>\n",
       "<style scoped>\n",
       "    .dataframe tbody tr th:only-of-type {\n",
       "        vertical-align: middle;\n",
       "    }\n",
       "\n",
       "    .dataframe tbody tr th {\n",
       "        vertical-align: top;\n",
       "    }\n",
       "\n",
       "    .dataframe thead th {\n",
       "        text-align: right;\n",
       "    }\n",
       "</style>\n",
       "<table border=\"1\" class=\"dataframe\">\n",
       "  <thead>\n",
       "    <tr style=\"text-align: right;\">\n",
       "      <th></th>\n",
       "      <th>Time</th>\n",
       "      <th>Day_of_week</th>\n",
       "      <th>Age_band_of_driver</th>\n",
       "      <th>Sex_of_driver</th>\n",
       "      <th>Educational_level</th>\n",
       "      <th>Vehicle_driver_relation</th>\n",
       "      <th>Driving_experience</th>\n",
       "      <th>Owner_of_vehicle</th>\n",
       "      <th>Area_accident_occured</th>\n",
       "      <th>Lanes_or_Medians</th>\n",
       "      <th>Road_allignment</th>\n",
       "      <th>Types_of_Junction</th>\n",
       "      <th>Road_surface_type</th>\n",
       "      <th>Road_surface_conditions</th>\n",
       "      <th>Light_conditions</th>\n",
       "      <th>Weather_conditions</th>\n",
       "      <th>Type_of_collision</th>\n",
       "      <th>Number_of_vehicles_involved</th>\n",
       "      <th>Number_of_casualties</th>\n",
       "      <th>Vehicle_movement</th>\n",
       "      <th>Casualty_class</th>\n",
       "      <th>Sex_of_casualty</th>\n",
       "      <th>Age_band_of_casualty</th>\n",
       "      <th>Casualty_severity</th>\n",
       "      <th>Pedestrian_movement</th>\n",
       "      <th>Cause_of_accident</th>\n",
       "      <th>Accident_severity</th>\n",
       "    </tr>\n",
       "  </thead>\n",
       "  <tbody>\n",
       "    <tr>\n",
       "      <th>0</th>\n",
       "      <td>17:02:00</td>\n",
       "      <td>Monday</td>\n",
       "      <td>18-30</td>\n",
       "      <td>Male</td>\n",
       "      <td>Above high school</td>\n",
       "      <td>Employee</td>\n",
       "      <td>1-2yr</td>\n",
       "      <td>Owner</td>\n",
       "      <td>Residential areas</td>\n",
       "      <td>Unknown</td>\n",
       "      <td>Tangent road with flat terrain</td>\n",
       "      <td>No junction</td>\n",
       "      <td>Asphalt roads</td>\n",
       "      <td>Dry</td>\n",
       "      <td>Daylight</td>\n",
       "      <td>Normal</td>\n",
       "      <td>Collision with roadside-parked vehicles</td>\n",
       "      <td>2</td>\n",
       "      <td>2</td>\n",
       "      <td>Going straight</td>\n",
       "      <td>na</td>\n",
       "      <td>na</td>\n",
       "      <td>na</td>\n",
       "      <td>na</td>\n",
       "      <td>Not a Pedestrian</td>\n",
       "      <td>Moving Backward</td>\n",
       "      <td>Slight Injury</td>\n",
       "    </tr>\n",
       "    <tr>\n",
       "      <th>1</th>\n",
       "      <td>17:02:00</td>\n",
       "      <td>Monday</td>\n",
       "      <td>31-50</td>\n",
       "      <td>Male</td>\n",
       "      <td>Junior high school</td>\n",
       "      <td>Employee</td>\n",
       "      <td>Above 10yr</td>\n",
       "      <td>Owner</td>\n",
       "      <td>Office areas</td>\n",
       "      <td>Undivided Two way</td>\n",
       "      <td>Tangent road with flat terrain</td>\n",
       "      <td>No junction</td>\n",
       "      <td>Asphalt roads</td>\n",
       "      <td>Dry</td>\n",
       "      <td>Daylight</td>\n",
       "      <td>Normal</td>\n",
       "      <td>Vehicle with vehicle collision</td>\n",
       "      <td>2</td>\n",
       "      <td>2</td>\n",
       "      <td>Going straight</td>\n",
       "      <td>na</td>\n",
       "      <td>na</td>\n",
       "      <td>na</td>\n",
       "      <td>na</td>\n",
       "      <td>Not a Pedestrian</td>\n",
       "      <td>Overtaking</td>\n",
       "      <td>Slight Injury</td>\n",
       "    </tr>\n",
       "    <tr>\n",
       "      <th>2</th>\n",
       "      <td>17:02:00</td>\n",
       "      <td>Monday</td>\n",
       "      <td>18-30</td>\n",
       "      <td>Male</td>\n",
       "      <td>Junior high school</td>\n",
       "      <td>Employee</td>\n",
       "      <td>1-2yr</td>\n",
       "      <td>Owner</td>\n",
       "      <td>Recreational areas</td>\n",
       "      <td>other</td>\n",
       "      <td>Tangent road with flat terrain</td>\n",
       "      <td>No junction</td>\n",
       "      <td>Asphalt roads</td>\n",
       "      <td>Dry</td>\n",
       "      <td>Daylight</td>\n",
       "      <td>Normal</td>\n",
       "      <td>Collision with roadside objects</td>\n",
       "      <td>2</td>\n",
       "      <td>2</td>\n",
       "      <td>Going straight</td>\n",
       "      <td>Driver or rider</td>\n",
       "      <td>Male</td>\n",
       "      <td>31-50</td>\n",
       "      <td>3</td>\n",
       "      <td>Not a Pedestrian</td>\n",
       "      <td>Changing lane to the left</td>\n",
       "      <td>Serious Injury</td>\n",
       "    </tr>\n",
       "    <tr>\n",
       "      <th>3</th>\n",
       "      <td>1:06:00</td>\n",
       "      <td>Sunday</td>\n",
       "      <td>18-30</td>\n",
       "      <td>Male</td>\n",
       "      <td>Junior high school</td>\n",
       "      <td>Employee</td>\n",
       "      <td>5-10yr</td>\n",
       "      <td>Governmental</td>\n",
       "      <td>Office areas</td>\n",
       "      <td>other</td>\n",
       "      <td>Tangent road with mild grade and flat terrain</td>\n",
       "      <td>Y Shape</td>\n",
       "      <td>Earth roads</td>\n",
       "      <td>Dry</td>\n",
       "      <td>Darkness - lights lit</td>\n",
       "      <td>Normal</td>\n",
       "      <td>Vehicle with vehicle collision</td>\n",
       "      <td>2</td>\n",
       "      <td>2</td>\n",
       "      <td>Going straight</td>\n",
       "      <td>Pedestrian</td>\n",
       "      <td>Female</td>\n",
       "      <td>18-30</td>\n",
       "      <td>3</td>\n",
       "      <td>Not a Pedestrian</td>\n",
       "      <td>Changing lane to the right</td>\n",
       "      <td>Slight Injury</td>\n",
       "    </tr>\n",
       "    <tr>\n",
       "      <th>4</th>\n",
       "      <td>1:06:00</td>\n",
       "      <td>Sunday</td>\n",
       "      <td>18-30</td>\n",
       "      <td>Male</td>\n",
       "      <td>Junior high school</td>\n",
       "      <td>Employee</td>\n",
       "      <td>2-5yr</td>\n",
       "      <td>Owner</td>\n",
       "      <td>Industrial areas</td>\n",
       "      <td>other</td>\n",
       "      <td>Tangent road with flat terrain</td>\n",
       "      <td>Y Shape</td>\n",
       "      <td>Asphalt roads</td>\n",
       "      <td>Dry</td>\n",
       "      <td>Darkness - lights lit</td>\n",
       "      <td>Normal</td>\n",
       "      <td>Vehicle with vehicle collision</td>\n",
       "      <td>2</td>\n",
       "      <td>2</td>\n",
       "      <td>Going straight</td>\n",
       "      <td>na</td>\n",
       "      <td>na</td>\n",
       "      <td>na</td>\n",
       "      <td>na</td>\n",
       "      <td>Not a Pedestrian</td>\n",
       "      <td>Overtaking</td>\n",
       "      <td>Slight Injury</td>\n",
       "    </tr>\n",
       "  </tbody>\n",
       "</table>\n",
       "</div>"
      ],
      "text/plain": [
       "       Time Day_of_week Age_band_of_driver Sex_of_driver   Educational_level  \\\n",
       "0  17:02:00      Monday              18-30          Male   Above high school   \n",
       "1  17:02:00      Monday              31-50          Male  Junior high school   \n",
       "2  17:02:00      Monday              18-30          Male  Junior high school   \n",
       "3   1:06:00      Sunday              18-30          Male  Junior high school   \n",
       "4   1:06:00      Sunday              18-30          Male  Junior high school   \n",
       "\n",
       "  Vehicle_driver_relation Driving_experience Owner_of_vehicle  \\\n",
       "0                Employee              1-2yr            Owner   \n",
       "1                Employee         Above 10yr            Owner   \n",
       "2                Employee              1-2yr            Owner   \n",
       "3                Employee             5-10yr     Governmental   \n",
       "4                Employee              2-5yr            Owner   \n",
       "\n",
       "  Area_accident_occured   Lanes_or_Medians  \\\n",
       "0     Residential areas            Unknown   \n",
       "1          Office areas  Undivided Two way   \n",
       "2    Recreational areas              other   \n",
       "3          Office areas              other   \n",
       "4      Industrial areas              other   \n",
       "\n",
       "                                 Road_allignment Types_of_Junction  \\\n",
       "0                 Tangent road with flat terrain       No junction   \n",
       "1                 Tangent road with flat terrain       No junction   \n",
       "2                 Tangent road with flat terrain       No junction   \n",
       "3  Tangent road with mild grade and flat terrain           Y Shape   \n",
       "4                 Tangent road with flat terrain           Y Shape   \n",
       "\n",
       "  Road_surface_type Road_surface_conditions       Light_conditions  \\\n",
       "0     Asphalt roads                     Dry               Daylight   \n",
       "1     Asphalt roads                     Dry               Daylight   \n",
       "2     Asphalt roads                     Dry               Daylight   \n",
       "3       Earth roads                     Dry  Darkness - lights lit   \n",
       "4     Asphalt roads                     Dry  Darkness - lights lit   \n",
       "\n",
       "  Weather_conditions                        Type_of_collision  \\\n",
       "0             Normal  Collision with roadside-parked vehicles   \n",
       "1             Normal           Vehicle with vehicle collision   \n",
       "2             Normal          Collision with roadside objects   \n",
       "3             Normal           Vehicle with vehicle collision   \n",
       "4             Normal           Vehicle with vehicle collision   \n",
       "\n",
       "   Number_of_vehicles_involved  Number_of_casualties Vehicle_movement  \\\n",
       "0                            2                     2   Going straight   \n",
       "1                            2                     2   Going straight   \n",
       "2                            2                     2   Going straight   \n",
       "3                            2                     2   Going straight   \n",
       "4                            2                     2   Going straight   \n",
       "\n",
       "    Casualty_class Sex_of_casualty Age_band_of_casualty Casualty_severity  \\\n",
       "0               na              na                   na                na   \n",
       "1               na              na                   na                na   \n",
       "2  Driver or rider            Male                31-50                 3   \n",
       "3       Pedestrian          Female                18-30                 3   \n",
       "4               na              na                   na                na   \n",
       "\n",
       "  Pedestrian_movement           Cause_of_accident Accident_severity  \n",
       "0    Not a Pedestrian             Moving Backward     Slight Injury  \n",
       "1    Not a Pedestrian                  Overtaking     Slight Injury  \n",
       "2    Not a Pedestrian   Changing lane to the left    Serious Injury  \n",
       "3    Not a Pedestrian  Changing lane to the right     Slight Injury  \n",
       "4    Not a Pedestrian                  Overtaking     Slight Injury  "
      ]
     },
     "execution_count": 3,
     "metadata": {},
     "output_type": "execute_result"
    }
   ],
   "source": [
    "df= pd.read_csv('cleaned_data.csv')\n",
    "df.head()"
   ]
  },
  {
   "cell_type": "code",
   "execution_count": 4,
   "id": "175a77d6-c7bb-4c43-84b9-d23463bf7afc",
   "metadata": {},
   "outputs": [
    {
     "data": {
      "text/plain": [
       "Time                           0\n",
       "Day_of_week                    0\n",
       "Age_band_of_driver             0\n",
       "Sex_of_driver                  0\n",
       "Educational_level              0\n",
       "Vehicle_driver_relation        0\n",
       "Driving_experience             0\n",
       "Owner_of_vehicle               0\n",
       "Area_accident_occured          0\n",
       "Lanes_or_Medians               0\n",
       "Road_allignment                0\n",
       "Types_of_Junction              0\n",
       "Road_surface_type              0\n",
       "Road_surface_conditions        0\n",
       "Light_conditions               0\n",
       "Weather_conditions             0\n",
       "Type_of_collision              0\n",
       "Number_of_vehicles_involved    0\n",
       "Number_of_casualties           0\n",
       "Vehicle_movement               0\n",
       "Casualty_class                 0\n",
       "Sex_of_casualty                0\n",
       "Age_band_of_casualty           0\n",
       "Casualty_severity              0\n",
       "Pedestrian_movement            0\n",
       "Cause_of_accident              0\n",
       "Accident_severity              0\n",
       "dtype: int64"
      ]
     },
     "execution_count": 4,
     "metadata": {},
     "output_type": "execute_result"
    }
   ],
   "source": [
    "df.isnull().sum()"
   ]
  },
  {
   "cell_type": "markdown",
   "id": "dbeef1f6-4591-4b51-a69e-c715033644eb",
   "metadata": {},
   "source": [
    "### Feature Engineering"
   ]
  },
  {
   "cell_type": "code",
   "execution_count": 5,
   "id": "485acd36-7104-4ae8-949e-82cae03e3b69",
   "metadata": {},
   "outputs": [],
   "source": [
    "# Convert time to datetime\n",
    "df['Time']=pd.to_datetime(df['Time'], format= '%H:%M:%S')\n",
    "\n",
    "# Extract hours from Datetime\n",
    "df['hour']= df['Time'].dt.hour"
   ]
  },
  {
   "cell_type": "markdown",
   "id": "bd6004e7-ad1d-4146-a0f9-316315cc5cb1",
   "metadata": {},
   "source": [
    "### Drop correlated values"
   ]
  },
  {
   "cell_type": "code",
   "execution_count": 6,
   "id": "8ca07d66-518f-482f-b89d-1a3f4d56c828",
   "metadata": {},
   "outputs": [],
   "source": [
    "df.drop(columns= ['Time', 'Casualty_severity', 'Sex_of_casualty', 'Casualty_class'], axis=1,inplace=True)"
   ]
  },
  {
   "cell_type": "code",
   "execution_count": 7,
   "id": "88766d70-dcca-4dd9-83e1-df856966df71",
   "metadata": {},
   "outputs": [
    {
     "data": {
      "text/html": [
       "<div>\n",
       "<style scoped>\n",
       "    .dataframe tbody tr th:only-of-type {\n",
       "        vertical-align: middle;\n",
       "    }\n",
       "\n",
       "    .dataframe tbody tr th {\n",
       "        vertical-align: top;\n",
       "    }\n",
       "\n",
       "    .dataframe thead th {\n",
       "        text-align: right;\n",
       "    }\n",
       "</style>\n",
       "<table border=\"1\" class=\"dataframe\">\n",
       "  <thead>\n",
       "    <tr style=\"text-align: right;\">\n",
       "      <th></th>\n",
       "      <th>Day_of_week</th>\n",
       "      <th>Age_band_of_driver</th>\n",
       "      <th>Sex_of_driver</th>\n",
       "      <th>Educational_level</th>\n",
       "      <th>Vehicle_driver_relation</th>\n",
       "      <th>Driving_experience</th>\n",
       "      <th>Owner_of_vehicle</th>\n",
       "      <th>Area_accident_occured</th>\n",
       "      <th>Lanes_or_Medians</th>\n",
       "      <th>Road_allignment</th>\n",
       "      <th>Types_of_Junction</th>\n",
       "      <th>Road_surface_type</th>\n",
       "      <th>Road_surface_conditions</th>\n",
       "      <th>Light_conditions</th>\n",
       "      <th>Weather_conditions</th>\n",
       "      <th>Type_of_collision</th>\n",
       "      <th>Number_of_vehicles_involved</th>\n",
       "      <th>Number_of_casualties</th>\n",
       "      <th>Vehicle_movement</th>\n",
       "      <th>Age_band_of_casualty</th>\n",
       "      <th>Pedestrian_movement</th>\n",
       "      <th>Cause_of_accident</th>\n",
       "      <th>Accident_severity</th>\n",
       "      <th>hour</th>\n",
       "    </tr>\n",
       "  </thead>\n",
       "  <tbody>\n",
       "    <tr>\n",
       "      <th>0</th>\n",
       "      <td>Monday</td>\n",
       "      <td>18-30</td>\n",
       "      <td>Male</td>\n",
       "      <td>Above high school</td>\n",
       "      <td>Employee</td>\n",
       "      <td>1-2yr</td>\n",
       "      <td>Owner</td>\n",
       "      <td>Residential areas</td>\n",
       "      <td>Unknown</td>\n",
       "      <td>Tangent road with flat terrain</td>\n",
       "      <td>No junction</td>\n",
       "      <td>Asphalt roads</td>\n",
       "      <td>Dry</td>\n",
       "      <td>Daylight</td>\n",
       "      <td>Normal</td>\n",
       "      <td>Collision with roadside-parked vehicles</td>\n",
       "      <td>2</td>\n",
       "      <td>2</td>\n",
       "      <td>Going straight</td>\n",
       "      <td>na</td>\n",
       "      <td>Not a Pedestrian</td>\n",
       "      <td>Moving Backward</td>\n",
       "      <td>Slight Injury</td>\n",
       "      <td>17</td>\n",
       "    </tr>\n",
       "    <tr>\n",
       "      <th>1</th>\n",
       "      <td>Monday</td>\n",
       "      <td>31-50</td>\n",
       "      <td>Male</td>\n",
       "      <td>Junior high school</td>\n",
       "      <td>Employee</td>\n",
       "      <td>Above 10yr</td>\n",
       "      <td>Owner</td>\n",
       "      <td>Office areas</td>\n",
       "      <td>Undivided Two way</td>\n",
       "      <td>Tangent road with flat terrain</td>\n",
       "      <td>No junction</td>\n",
       "      <td>Asphalt roads</td>\n",
       "      <td>Dry</td>\n",
       "      <td>Daylight</td>\n",
       "      <td>Normal</td>\n",
       "      <td>Vehicle with vehicle collision</td>\n",
       "      <td>2</td>\n",
       "      <td>2</td>\n",
       "      <td>Going straight</td>\n",
       "      <td>na</td>\n",
       "      <td>Not a Pedestrian</td>\n",
       "      <td>Overtaking</td>\n",
       "      <td>Slight Injury</td>\n",
       "      <td>17</td>\n",
       "    </tr>\n",
       "    <tr>\n",
       "      <th>2</th>\n",
       "      <td>Monday</td>\n",
       "      <td>18-30</td>\n",
       "      <td>Male</td>\n",
       "      <td>Junior high school</td>\n",
       "      <td>Employee</td>\n",
       "      <td>1-2yr</td>\n",
       "      <td>Owner</td>\n",
       "      <td>Recreational areas</td>\n",
       "      <td>other</td>\n",
       "      <td>Tangent road with flat terrain</td>\n",
       "      <td>No junction</td>\n",
       "      <td>Asphalt roads</td>\n",
       "      <td>Dry</td>\n",
       "      <td>Daylight</td>\n",
       "      <td>Normal</td>\n",
       "      <td>Collision with roadside objects</td>\n",
       "      <td>2</td>\n",
       "      <td>2</td>\n",
       "      <td>Going straight</td>\n",
       "      <td>31-50</td>\n",
       "      <td>Not a Pedestrian</td>\n",
       "      <td>Changing lane to the left</td>\n",
       "      <td>Serious Injury</td>\n",
       "      <td>17</td>\n",
       "    </tr>\n",
       "    <tr>\n",
       "      <th>3</th>\n",
       "      <td>Sunday</td>\n",
       "      <td>18-30</td>\n",
       "      <td>Male</td>\n",
       "      <td>Junior high school</td>\n",
       "      <td>Employee</td>\n",
       "      <td>5-10yr</td>\n",
       "      <td>Governmental</td>\n",
       "      <td>Office areas</td>\n",
       "      <td>other</td>\n",
       "      <td>Tangent road with mild grade and flat terrain</td>\n",
       "      <td>Y Shape</td>\n",
       "      <td>Earth roads</td>\n",
       "      <td>Dry</td>\n",
       "      <td>Darkness - lights lit</td>\n",
       "      <td>Normal</td>\n",
       "      <td>Vehicle with vehicle collision</td>\n",
       "      <td>2</td>\n",
       "      <td>2</td>\n",
       "      <td>Going straight</td>\n",
       "      <td>18-30</td>\n",
       "      <td>Not a Pedestrian</td>\n",
       "      <td>Changing lane to the right</td>\n",
       "      <td>Slight Injury</td>\n",
       "      <td>1</td>\n",
       "    </tr>\n",
       "    <tr>\n",
       "      <th>4</th>\n",
       "      <td>Sunday</td>\n",
       "      <td>18-30</td>\n",
       "      <td>Male</td>\n",
       "      <td>Junior high school</td>\n",
       "      <td>Employee</td>\n",
       "      <td>2-5yr</td>\n",
       "      <td>Owner</td>\n",
       "      <td>Industrial areas</td>\n",
       "      <td>other</td>\n",
       "      <td>Tangent road with flat terrain</td>\n",
       "      <td>Y Shape</td>\n",
       "      <td>Asphalt roads</td>\n",
       "      <td>Dry</td>\n",
       "      <td>Darkness - lights lit</td>\n",
       "      <td>Normal</td>\n",
       "      <td>Vehicle with vehicle collision</td>\n",
       "      <td>2</td>\n",
       "      <td>2</td>\n",
       "      <td>Going straight</td>\n",
       "      <td>na</td>\n",
       "      <td>Not a Pedestrian</td>\n",
       "      <td>Overtaking</td>\n",
       "      <td>Slight Injury</td>\n",
       "      <td>1</td>\n",
       "    </tr>\n",
       "  </tbody>\n",
       "</table>\n",
       "</div>"
      ],
      "text/plain": [
       "  Day_of_week Age_band_of_driver Sex_of_driver   Educational_level  \\\n",
       "0      Monday              18-30          Male   Above high school   \n",
       "1      Monday              31-50          Male  Junior high school   \n",
       "2      Monday              18-30          Male  Junior high school   \n",
       "3      Sunday              18-30          Male  Junior high school   \n",
       "4      Sunday              18-30          Male  Junior high school   \n",
       "\n",
       "  Vehicle_driver_relation Driving_experience Owner_of_vehicle  \\\n",
       "0                Employee              1-2yr            Owner   \n",
       "1                Employee         Above 10yr            Owner   \n",
       "2                Employee              1-2yr            Owner   \n",
       "3                Employee             5-10yr     Governmental   \n",
       "4                Employee              2-5yr            Owner   \n",
       "\n",
       "  Area_accident_occured   Lanes_or_Medians  \\\n",
       "0     Residential areas            Unknown   \n",
       "1          Office areas  Undivided Two way   \n",
       "2    Recreational areas              other   \n",
       "3          Office areas              other   \n",
       "4      Industrial areas              other   \n",
       "\n",
       "                                 Road_allignment Types_of_Junction  \\\n",
       "0                 Tangent road with flat terrain       No junction   \n",
       "1                 Tangent road with flat terrain       No junction   \n",
       "2                 Tangent road with flat terrain       No junction   \n",
       "3  Tangent road with mild grade and flat terrain           Y Shape   \n",
       "4                 Tangent road with flat terrain           Y Shape   \n",
       "\n",
       "  Road_surface_type Road_surface_conditions       Light_conditions  \\\n",
       "0     Asphalt roads                     Dry               Daylight   \n",
       "1     Asphalt roads                     Dry               Daylight   \n",
       "2     Asphalt roads                     Dry               Daylight   \n",
       "3       Earth roads                     Dry  Darkness - lights lit   \n",
       "4     Asphalt roads                     Dry  Darkness - lights lit   \n",
       "\n",
       "  Weather_conditions                        Type_of_collision  \\\n",
       "0             Normal  Collision with roadside-parked vehicles   \n",
       "1             Normal           Vehicle with vehicle collision   \n",
       "2             Normal          Collision with roadside objects   \n",
       "3             Normal           Vehicle with vehicle collision   \n",
       "4             Normal           Vehicle with vehicle collision   \n",
       "\n",
       "   Number_of_vehicles_involved  Number_of_casualties Vehicle_movement  \\\n",
       "0                            2                     2   Going straight   \n",
       "1                            2                     2   Going straight   \n",
       "2                            2                     2   Going straight   \n",
       "3                            2                     2   Going straight   \n",
       "4                            2                     2   Going straight   \n",
       "\n",
       "  Age_band_of_casualty Pedestrian_movement           Cause_of_accident  \\\n",
       "0                   na    Not a Pedestrian             Moving Backward   \n",
       "1                   na    Not a Pedestrian                  Overtaking   \n",
       "2                31-50    Not a Pedestrian   Changing lane to the left   \n",
       "3                18-30    Not a Pedestrian  Changing lane to the right   \n",
       "4                   na    Not a Pedestrian                  Overtaking   \n",
       "\n",
       "  Accident_severity  hour  \n",
       "0     Slight Injury    17  \n",
       "1     Slight Injury    17  \n",
       "2    Serious Injury    17  \n",
       "3     Slight Injury     1  \n",
       "4     Slight Injury     1  "
      ]
     },
     "execution_count": 7,
     "metadata": {},
     "output_type": "execute_result"
    }
   ],
   "source": [
    "df.head() "
   ]
  },
  {
   "cell_type": "markdown",
   "id": "8bebe710-3d19-4096-8c65-3295b1c14a68",
   "metadata": {},
   "source": [
    "**During the Analysis with the tree-based models, i dropped some features such as Time and other features with high correlation. I would do the same here** \n",
    "- Casualty severity, Sex of casualty, Casualty class all had high correlations with each other"
   ]
  },
  {
   "cell_type": "markdown",
   "id": "b867be8c-4455-4429-9046-dcee810ce74e",
   "metadata": {},
   "source": [
    "### Select the categorical & numerical variables"
   ]
  },
  {
   "cell_type": "code",
   "execution_count": 8,
   "id": "195521ba-a9b6-4607-9eba-757a08a6d153",
   "metadata": {},
   "outputs": [
    {
     "data": {
      "text/plain": [
       "['Day_of_week',\n",
       " 'Age_band_of_driver',\n",
       " 'Sex_of_driver',\n",
       " 'Educational_level',\n",
       " 'Vehicle_driver_relation',\n",
       " 'Driving_experience',\n",
       " 'Owner_of_vehicle',\n",
       " 'Area_accident_occured',\n",
       " 'Lanes_or_Medians',\n",
       " 'Road_allignment',\n",
       " 'Types_of_Junction',\n",
       " 'Road_surface_type',\n",
       " 'Road_surface_conditions',\n",
       " 'Light_conditions',\n",
       " 'Weather_conditions',\n",
       " 'Type_of_collision',\n",
       " 'Vehicle_movement',\n",
       " 'Age_band_of_casualty',\n",
       " 'Pedestrian_movement',\n",
       " 'Cause_of_accident',\n",
       " 'Accident_severity']"
      ]
     },
     "execution_count": 8,
     "metadata": {},
     "output_type": "execute_result"
    }
   ],
   "source": [
    "categorical_cols = df.select_dtypes(include=['object']).columns.tolist()\n",
    "categorical_cols"
   ]
  },
  {
   "cell_type": "code",
   "execution_count": 9,
   "id": "8756fd5c-4013-46ad-b203-27df851decf8",
   "metadata": {},
   "outputs": [
    {
     "data": {
      "text/plain": [
       "['Number_of_vehicles_involved', 'Number_of_casualties', 'hour']"
      ]
     },
     "execution_count": 9,
     "metadata": {},
     "output_type": "execute_result"
    }
   ],
   "source": [
    "numerical_cols = df.select_dtypes(include=['int32', 'int64', 'float']).columns.tolist()\n",
    "numerical_cols"
   ]
  },
  {
   "cell_type": "code",
   "execution_count": 10,
   "id": "60a4b8bb-4473-4f4b-8078-ec49e2f3b7f1",
   "metadata": {},
   "outputs": [],
   "source": [
    "# Label encode target variable\n",
    "Target_mapping={'Slight Injury':0, 'Serious Injury':1, 'Fatal injury':2}\n",
    "df['Accident_severity']= df['Accident_severity'].map(Target_mapping)"
   ]
  },
  {
   "cell_type": "markdown",
   "id": "f6e9c08f-8f6b-473d-926e-79d18d73902d",
   "metadata": {},
   "source": [
    "### Data Preprcoessing"
   ]
  },
  {
   "cell_type": "code",
   "execution_count": 11,
   "id": "105e9d86-5786-4db8-8d38-f98f63585e8a",
   "metadata": {},
   "outputs": [],
   "source": [
    "# Seperate features from target\n",
    "X= df.drop(columns='Accident_severity' , axis=1)\n",
    "y= df['Accident_severity']"
   ]
  },
  {
   "cell_type": "code",
   "execution_count": 12,
   "id": "726fb693-0e2f-4a0e-b920-3607fc4537f8",
   "metadata": {},
   "outputs": [
    {
     "data": {
      "text/plain": [
       "Accident_severity\n",
       "0    10415\n",
       "1     1743\n",
       "2      158\n",
       "Name: count, dtype: int64"
      ]
     },
     "execution_count": 12,
     "metadata": {},
     "output_type": "execute_result"
    }
   ],
   "source": [
    "y.value_counts()"
   ]
  },
  {
   "cell_type": "markdown",
   "id": "ddf0567c-e8e1-436b-8a2b-a2e51a8e1f8d",
   "metadata": {},
   "source": [
    "The value_counts show a clear sign of imbalance"
   ]
  },
  {
   "cell_type": "markdown",
   "id": "072e52d5-9265-44f5-98c4-c79e3a72cf2a",
   "metadata": {},
   "source": [
    "### Train Test split"
   ]
  },
  {
   "cell_type": "code",
   "execution_count": 13,
   "id": "c78ae812-9e4d-438f-b234-bf4bb544f32a",
   "metadata": {},
   "outputs": [],
   "source": [
    "# Train test split\n",
    "from sklearn.model_selection import train_test_split \n",
    "X_train, X_test, y_train, y_test = train_test_split(X, y, test_size=0.2, random_state=42, stratify=y)"
   ]
  },
  {
   "cell_type": "code",
   "execution_count": 14,
   "id": "3a76fbbd-516b-465d-875f-3190a22492a3",
   "metadata": {},
   "outputs": [
    {
     "data": {
      "text/plain": [
       "['Day_of_week',\n",
       " 'Age_band_of_driver',\n",
       " 'Sex_of_driver',\n",
       " 'Educational_level',\n",
       " 'Vehicle_driver_relation',\n",
       " 'Driving_experience',\n",
       " 'Owner_of_vehicle',\n",
       " 'Area_accident_occured',\n",
       " 'Lanes_or_Medians',\n",
       " 'Road_allignment',\n",
       " 'Types_of_Junction',\n",
       " 'Road_surface_type',\n",
       " 'Road_surface_conditions',\n",
       " 'Light_conditions',\n",
       " 'Weather_conditions',\n",
       " 'Type_of_collision',\n",
       " 'Vehicle_movement',\n",
       " 'Age_band_of_casualty',\n",
       " 'Pedestrian_movement',\n",
       " 'Cause_of_accident']"
      ]
     },
     "execution_count": 14,
     "metadata": {},
     "output_type": "execute_result"
    }
   ],
   "source": [
    "# Dropped Accident_severity from my list of categorical columns since it is now a target variable and not a feature. \n",
    "# I had an error of column name not found in column after running the preprocessor\n",
    "categorical_cols= categorical_cols[:-1]\n",
    "categorical_cols"
   ]
  },
  {
   "cell_type": "markdown",
   "id": "3ace09db-7d03-422f-ac61-c6edfa2204cb",
   "metadata": {},
   "source": [
    "### Initiating a Column Transformer"
   ]
  },
  {
   "cell_type": "markdown",
   "id": "e995320c-0b6f-46e0-955e-1473d0ac008f",
   "metadata": {},
   "source": [
    "I used a column transformer to make the code more tidy and streamlined, showing a clear process"
   ]
  },
  {
   "cell_type": "markdown",
   "id": "42acb120-f8d8-40ce-8cbb-7bbbfea6bfd5",
   "metadata": {},
   "source": [
    "Since there is a clear imbalance, i introduced SMOTE to balance the minorities"
   ]
  },
  {
   "cell_type": "code",
   "execution_count": 15,
   "id": "f30598c7-5853-4b24-95c7-eade9b5de9cd",
   "metadata": {},
   "outputs": [],
   "source": [
    "from imblearn.over_sampling import SMOTE\n",
    "from sklearn.compose import ColumnTransformer \n",
    "from sklearn.preprocessing import OneHotEncoder, StandardScaler\n",
    "\n",
    "# Preprocessor\n",
    "preprocessor= ColumnTransformer(transformers= [\n",
    "    ('num_pipeline', StandardScaler(), numerical_cols),\n",
    "    ('cat_pipeline', OneHotEncoder(drop='first', handle_unknown= 'ignore', sparse_output= False), categorical_cols)\n",
    "])\n",
    "\n",
    "# fit-transform preprocessor to the training set\n",
    "X_train_preprocessed = preprocessor.fit_transform(X_train)\n",
    "X_test_preprocessed = preprocessor.transform(X_test)\n",
    "\n",
    "# Apply SMOTE to solve imbalance\n",
    "smote= SMOTE(random_state=42)\n",
    "X_train_sm, y_train_sm = smote.fit_resample(X_train_preprocessed, y_train)"
   ]
  },
  {
   "cell_type": "code",
   "execution_count": 16,
   "id": "b1e78c9b-caf2-4162-8f34-32634226ca87",
   "metadata": {},
   "outputs": [
    {
     "data": {
      "text/plain": [
       "Accident_severity\n",
       "0    8331\n",
       "1    8331\n",
       "2    8331\n",
       "Name: count, dtype: int64"
      ]
     },
     "execution_count": 16,
     "metadata": {},
     "output_type": "execute_result"
    }
   ],
   "source": [
    "# check to see if there is balance\n",
    "y_train_sm.value_counts()"
   ]
  },
  {
   "cell_type": "markdown",
   "id": "69305ebd-bca6-4ce4-91c8-def58de79bc4",
   "metadata": {},
   "source": [
    "### Tensorflow/Keras Implementation"
   ]
  },
  {
   "cell_type": "code",
   "execution_count": null,
   "id": "a43e7ee7-6c59-4806-b949-df34db9ed3fd",
   "metadata": {},
   "outputs": [],
   "source": [
    "# One hot encode the transformed smote target variable for neural network use\n",
    "#y_train_enc= keras.utils.to_categorical(y_sm)\n",
    "#y_test_enc = keras.utils.to_categorical(y_test)"
   ]
  },
  {
   "cell_type": "code",
   "execution_count": 38,
   "id": "056cc154-df1d-4535-9c5c-319b4506d947",
   "metadata": {},
   "outputs": [],
   "source": [
    "from tensorflow.keras.regularizers import l2\n",
    "model = Sequential(\n",
    "    [\n",
    "        Dense(128, activation='relu', input_shape= X_train_sm.shape[1:], kernel_regularizer=l2(0.01)),# l2 to shrink the weights\n",
    "        Dropout(0.4),   # Implementing a 40% dropout regularization layer in this hidden layer\n",
    "        Dense(64, activation='relu', kernel_regularizer=l2(0.002)),\n",
    "        Dropout(0.2),   # Implementing a 20% dropout regularization layer in this hidden layer\n",
    "        Dense(32, activation='relu'),\n",
    "        Dense(3, activation='softmax')\n",
    "    ]\n",
    ")"
   ]
  },
  {
   "cell_type": "markdown",
   "id": "6200a25a-ef9a-4c0d-9f6e-11571980b32b",
   "metadata": {},
   "source": [
    "Softmax is used in the output layer becasue it converts each output value into a probability for each classification and the problem is a multiclass classification"
   ]
  },
  {
   "cell_type": "code",
   "execution_count": 39,
   "id": "4a32f0f3-afad-4a2d-be2e-bfeb56872bb6",
   "metadata": {},
   "outputs": [
    {
     "data": {
      "text/html": [
       "<pre style=\"white-space:pre;overflow-x:auto;line-height:normal;font-family:Menlo,'DejaVu Sans Mono',consolas,'Courier New',monospace\"><span style=\"font-weight: bold\">Model: \"sequential_5\"</span>\n",
       "</pre>\n"
      ],
      "text/plain": [
       "\u001b[1mModel: \"sequential_5\"\u001b[0m\n"
      ]
     },
     "metadata": {},
     "output_type": "display_data"
    },
    {
     "data": {
      "text/html": [
       "<pre style=\"white-space:pre;overflow-x:auto;line-height:normal;font-family:Menlo,'DejaVu Sans Mono',consolas,'Courier New',monospace\">┏━━━━━━━━━━━━━━━━━━━━━━━━━━━━━━━━━━━━━━┳━━━━━━━━━━━━━━━━━━━━━━━━━━━━━┳━━━━━━━━━━━━━━━━━┓\n",
       "┃<span style=\"font-weight: bold\"> Layer (type)                         </span>┃<span style=\"font-weight: bold\"> Output Shape                </span>┃<span style=\"font-weight: bold\">         Param # </span>┃\n",
       "┡━━━━━━━━━━━━━━━━━━━━━━━━━━━━━━━━━━━━━━╇━━━━━━━━━━━━━━━━━━━━━━━━━━━━━╇━━━━━━━━━━━━━━━━━┩\n",
       "│ dense_20 (<span style=\"color: #0087ff; text-decoration-color: #0087ff\">Dense</span>)                     │ (<span style=\"color: #00d7ff; text-decoration-color: #00d7ff\">None</span>, <span style=\"color: #00af00; text-decoration-color: #00af00\">128</span>)                 │          <span style=\"color: #00af00; text-decoration-color: #00af00\">17,792</span> │\n",
       "├──────────────────────────────────────┼─────────────────────────────┼─────────────────┤\n",
       "│ dropout_10 (<span style=\"color: #0087ff; text-decoration-color: #0087ff\">Dropout</span>)                 │ (<span style=\"color: #00d7ff; text-decoration-color: #00d7ff\">None</span>, <span style=\"color: #00af00; text-decoration-color: #00af00\">128</span>)                 │               <span style=\"color: #00af00; text-decoration-color: #00af00\">0</span> │\n",
       "├──────────────────────────────────────┼─────────────────────────────┼─────────────────┤\n",
       "│ dense_21 (<span style=\"color: #0087ff; text-decoration-color: #0087ff\">Dense</span>)                     │ (<span style=\"color: #00d7ff; text-decoration-color: #00d7ff\">None</span>, <span style=\"color: #00af00; text-decoration-color: #00af00\">64</span>)                  │           <span style=\"color: #00af00; text-decoration-color: #00af00\">8,256</span> │\n",
       "├──────────────────────────────────────┼─────────────────────────────┼─────────────────┤\n",
       "│ dropout_11 (<span style=\"color: #0087ff; text-decoration-color: #0087ff\">Dropout</span>)                 │ (<span style=\"color: #00d7ff; text-decoration-color: #00d7ff\">None</span>, <span style=\"color: #00af00; text-decoration-color: #00af00\">64</span>)                  │               <span style=\"color: #00af00; text-decoration-color: #00af00\">0</span> │\n",
       "├──────────────────────────────────────┼─────────────────────────────┼─────────────────┤\n",
       "│ dense_22 (<span style=\"color: #0087ff; text-decoration-color: #0087ff\">Dense</span>)                     │ (<span style=\"color: #00d7ff; text-decoration-color: #00d7ff\">None</span>, <span style=\"color: #00af00; text-decoration-color: #00af00\">32</span>)                  │           <span style=\"color: #00af00; text-decoration-color: #00af00\">2,080</span> │\n",
       "├──────────────────────────────────────┼─────────────────────────────┼─────────────────┤\n",
       "│ dense_23 (<span style=\"color: #0087ff; text-decoration-color: #0087ff\">Dense</span>)                     │ (<span style=\"color: #00d7ff; text-decoration-color: #00d7ff\">None</span>, <span style=\"color: #00af00; text-decoration-color: #00af00\">3</span>)                   │              <span style=\"color: #00af00; text-decoration-color: #00af00\">99</span> │\n",
       "└──────────────────────────────────────┴─────────────────────────────┴─────────────────┘\n",
       "</pre>\n"
      ],
      "text/plain": [
       "┏━━━━━━━━━━━━━━━━━━━━━━━━━━━━━━━━━━━━━━┳━━━━━━━━━━━━━━━━━━━━━━━━━━━━━┳━━━━━━━━━━━━━━━━━┓\n",
       "┃\u001b[1m \u001b[0m\u001b[1mLayer (type)                        \u001b[0m\u001b[1m \u001b[0m┃\u001b[1m \u001b[0m\u001b[1mOutput Shape               \u001b[0m\u001b[1m \u001b[0m┃\u001b[1m \u001b[0m\u001b[1m        Param #\u001b[0m\u001b[1m \u001b[0m┃\n",
       "┡━━━━━━━━━━━━━━━━━━━━━━━━━━━━━━━━━━━━━━╇━━━━━━━━━━━━━━━━━━━━━━━━━━━━━╇━━━━━━━━━━━━━━━━━┩\n",
       "│ dense_20 (\u001b[38;5;33mDense\u001b[0m)                     │ (\u001b[38;5;45mNone\u001b[0m, \u001b[38;5;34m128\u001b[0m)                 │          \u001b[38;5;34m17,792\u001b[0m │\n",
       "├──────────────────────────────────────┼─────────────────────────────┼─────────────────┤\n",
       "│ dropout_10 (\u001b[38;5;33mDropout\u001b[0m)                 │ (\u001b[38;5;45mNone\u001b[0m, \u001b[38;5;34m128\u001b[0m)                 │               \u001b[38;5;34m0\u001b[0m │\n",
       "├──────────────────────────────────────┼─────────────────────────────┼─────────────────┤\n",
       "│ dense_21 (\u001b[38;5;33mDense\u001b[0m)                     │ (\u001b[38;5;45mNone\u001b[0m, \u001b[38;5;34m64\u001b[0m)                  │           \u001b[38;5;34m8,256\u001b[0m │\n",
       "├──────────────────────────────────────┼─────────────────────────────┼─────────────────┤\n",
       "│ dropout_11 (\u001b[38;5;33mDropout\u001b[0m)                 │ (\u001b[38;5;45mNone\u001b[0m, \u001b[38;5;34m64\u001b[0m)                  │               \u001b[38;5;34m0\u001b[0m │\n",
       "├──────────────────────────────────────┼─────────────────────────────┼─────────────────┤\n",
       "│ dense_22 (\u001b[38;5;33mDense\u001b[0m)                     │ (\u001b[38;5;45mNone\u001b[0m, \u001b[38;5;34m32\u001b[0m)                  │           \u001b[38;5;34m2,080\u001b[0m │\n",
       "├──────────────────────────────────────┼─────────────────────────────┼─────────────────┤\n",
       "│ dense_23 (\u001b[38;5;33mDense\u001b[0m)                     │ (\u001b[38;5;45mNone\u001b[0m, \u001b[38;5;34m3\u001b[0m)                   │              \u001b[38;5;34m99\u001b[0m │\n",
       "└──────────────────────────────────────┴─────────────────────────────┴─────────────────┘\n"
      ]
     },
     "metadata": {},
     "output_type": "display_data"
    },
    {
     "data": {
      "text/html": [
       "<pre style=\"white-space:pre;overflow-x:auto;line-height:normal;font-family:Menlo,'DejaVu Sans Mono',consolas,'Courier New',monospace\"><span style=\"font-weight: bold\"> Total params: </span><span style=\"color: #00af00; text-decoration-color: #00af00\">28,227</span> (110.26 KB)\n",
       "</pre>\n"
      ],
      "text/plain": [
       "\u001b[1m Total params: \u001b[0m\u001b[38;5;34m28,227\u001b[0m (110.26 KB)\n"
      ]
     },
     "metadata": {},
     "output_type": "display_data"
    },
    {
     "data": {
      "text/html": [
       "<pre style=\"white-space:pre;overflow-x:auto;line-height:normal;font-family:Menlo,'DejaVu Sans Mono',consolas,'Courier New',monospace\"><span style=\"font-weight: bold\"> Trainable params: </span><span style=\"color: #00af00; text-decoration-color: #00af00\">28,227</span> (110.26 KB)\n",
       "</pre>\n"
      ],
      "text/plain": [
       "\u001b[1m Trainable params: \u001b[0m\u001b[38;5;34m28,227\u001b[0m (110.26 KB)\n"
      ]
     },
     "metadata": {},
     "output_type": "display_data"
    },
    {
     "data": {
      "text/html": [
       "<pre style=\"white-space:pre;overflow-x:auto;line-height:normal;font-family:Menlo,'DejaVu Sans Mono',consolas,'Courier New',monospace\"><span style=\"font-weight: bold\"> Non-trainable params: </span><span style=\"color: #00af00; text-decoration-color: #00af00\">0</span> (0.00 B)\n",
       "</pre>\n"
      ],
      "text/plain": [
       "\u001b[1m Non-trainable params: \u001b[0m\u001b[38;5;34m0\u001b[0m (0.00 B)\n"
      ]
     },
     "metadata": {},
     "output_type": "display_data"
    }
   ],
   "source": [
    "model.summary()"
   ]
  },
  {
   "cell_type": "code",
   "execution_count": 40,
   "id": "e17ef9cb-4c64-448f-921a-702cbc9d495e",
   "metadata": {},
   "outputs": [],
   "source": [
    "# compile the model\n",
    "model.compile(loss= 'sparse_categorical_crossentropy', optimizer= 'Adam', metrics= ['accuracy'])"
   ]
  },
  {
   "cell_type": "markdown",
   "id": "dd732775-db8b-48c1-b83b-fe350d811f19",
   "metadata": {},
   "source": [
    "sparse_categorical_crossentropy is used as the loss function instead of BinaryCrossEntropy as the problem being solved is not a binary classification"
   ]
  },
  {
   "cell_type": "code",
   "execution_count": 41,
   "id": "8bf2cda3-20ad-413c-a1d8-a61c4bf66dd8",
   "metadata": {},
   "outputs": [
    {
     "name": "stdout",
     "output_type": "stream",
     "text": [
      "Epoch 1/100\n",
      "782/782 - 8s - 10ms/step - accuracy: 0.6100 - loss: 1.0418 - val_accuracy: 0.4696 - val_loss: 0.9777\n",
      "Epoch 2/100\n",
      "782/782 - 3s - 4ms/step - accuracy: 0.7296 - loss: 0.6634 - val_accuracy: 0.6822 - val_loss: 0.8083\n",
      "Epoch 3/100\n",
      "782/782 - 4s - 5ms/step - accuracy: 0.7532 - loss: 0.6151 - val_accuracy: 0.5069 - val_loss: 0.9563\n",
      "Epoch 4/100\n",
      "782/782 - 4s - 5ms/step - accuracy: 0.7765 - loss: 0.5838 - val_accuracy: 0.7642 - val_loss: 0.7373\n",
      "Epoch 5/100\n",
      "782/782 - 4s - 5ms/step - accuracy: 0.7818 - loss: 0.5784 - val_accuracy: 0.6266 - val_loss: 0.8510\n",
      "Epoch 6/100\n",
      "782/782 - 4s - 5ms/step - accuracy: 0.7922 - loss: 0.5742 - val_accuracy: 0.6875 - val_loss: 0.8251\n",
      "Epoch 7/100\n",
      "782/782 - 4s - 5ms/step - accuracy: 0.8014 - loss: 0.5652 - val_accuracy: 0.4769 - val_loss: 1.0600\n",
      "Epoch 8/100\n",
      "782/782 - 5s - 7ms/step - accuracy: 0.8085 - loss: 0.5478 - val_accuracy: 0.6725 - val_loss: 0.8240\n",
      "Epoch 9/100\n",
      "782/782 - 4s - 5ms/step - accuracy: 0.8095 - loss: 0.5580 - val_accuracy: 0.7058 - val_loss: 0.8012\n",
      "Epoch 10/100\n",
      "782/782 - 4s - 5ms/step - accuracy: 0.8170 - loss: 0.5460 - val_accuracy: 0.6380 - val_loss: 0.8618\n",
      "Epoch 11/100\n",
      "782/782 - 4s - 5ms/step - accuracy: 0.8171 - loss: 0.5448 - val_accuracy: 0.7955 - val_loss: 0.7248\n",
      "Epoch 12/100\n",
      "782/782 - 4s - 5ms/step - accuracy: 0.8201 - loss: 0.5429 - val_accuracy: 0.6944 - val_loss: 0.8208\n",
      "Epoch 13/100\n",
      "782/782 - 6s - 7ms/step - accuracy: 0.8245 - loss: 0.5349 - val_accuracy: 0.6445 - val_loss: 0.8784\n",
      "Epoch 14/100\n",
      "782/782 - 4s - 5ms/step - accuracy: 0.8265 - loss: 0.5346 - val_accuracy: 0.6140 - val_loss: 0.9016\n",
      "Epoch 15/100\n",
      "782/782 - 5s - 7ms/step - accuracy: 0.8271 - loss: 0.5279 - val_accuracy: 0.7431 - val_loss: 0.7616\n",
      "Epoch 16/100\n",
      "782/782 - 4s - 5ms/step - accuracy: 0.8281 - loss: 0.5324 - val_accuracy: 0.7378 - val_loss: 0.7673\n",
      "Epoch 17/100\n",
      "782/782 - 6s - 7ms/step - accuracy: 0.8315 - loss: 0.5271 - val_accuracy: 0.7188 - val_loss: 0.7991\n",
      "Epoch 18/100\n",
      "782/782 - 5s - 7ms/step - accuracy: 0.8304 - loss: 0.5316 - val_accuracy: 0.6867 - val_loss: 0.8372\n",
      "Epoch 19/100\n",
      "782/782 - 4s - 5ms/step - accuracy: 0.8368 - loss: 0.5225 - val_accuracy: 0.7110 - val_loss: 0.8216\n",
      "Epoch 20/100\n",
      "782/782 - 4s - 5ms/step - accuracy: 0.8357 - loss: 0.5212 - val_accuracy: 0.7597 - val_loss: 0.7536\n",
      "Epoch 21/100\n",
      "782/782 - 4s - 5ms/step - accuracy: 0.8362 - loss: 0.5231 - val_accuracy: 0.7196 - val_loss: 0.8024\n",
      "Epoch 22/100\n",
      "782/782 - 4s - 5ms/step - accuracy: 0.8348 - loss: 0.5234 - val_accuracy: 0.6924 - val_loss: 0.8346\n",
      "Epoch 23/100\n",
      "782/782 - 5s - 6ms/step - accuracy: 0.8356 - loss: 0.5246 - val_accuracy: 0.6684 - val_loss: 0.8768\n",
      "Epoch 24/100\n",
      "782/782 - 4s - 5ms/step - accuracy: 0.8370 - loss: 0.5236 - val_accuracy: 0.6567 - val_loss: 0.8866\n",
      "Epoch 25/100\n",
      "782/782 - 5s - 6ms/step - accuracy: 0.8367 - loss: 0.5274 - val_accuracy: 0.6782 - val_loss: 0.8477\n",
      "Epoch 26/100\n",
      "782/782 - 5s - 7ms/step - accuracy: 0.8404 - loss: 0.5184 - val_accuracy: 0.6526 - val_loss: 0.8946\n",
      "Epoch 26: early stopping\n",
      "Restoring model weights from the end of the best epoch: 11.\n",
      "\u001b[1m77/77\u001b[0m \u001b[32m━━━━━━━━━━━━━━━━━━━━\u001b[0m\u001b[37m\u001b[0m \u001b[1m0s\u001b[0m 5ms/step - accuracy: 0.7955 - loss: 0.7248\n",
      "Overall Test loss: 0.7248378396034241\n",
      "Overall Test accuracy: 0.7954545617103577\n"
     ]
    }
   ],
   "source": [
    "# Train the model\n",
    "from tensorflow.keras.callbacks import EarlyStopping\n",
    "\n",
    "# Early stopping callback\n",
    "early_stopping = EarlyStopping(\n",
    "    monitor='val_loss',\n",
    "    patience=15, # extra chances for improvement\n",
    "    restore_best_weights=True,  # return to best weights\n",
    "    verbose=1\n",
    ")\n",
    "\n",
    "history = model.fit(X_train_sm, y_train_sm,\n",
    "                    batch_size=32,\n",
    "                    epochs= 100,\n",
    "                    verbose= 2,\n",
    "                    validation_data=(X_test_preprocessed, y_test),\n",
    "                    callbacks= [early_stopping]) \n",
    "\n",
    "scores= model.evaluate(X_test_preprocessed, y_test, verbose=1)\n",
    "\n",
    "# loss\n",
    "print('Overall Test loss:', scores[0])\n",
    "\n",
    "# Accuracy\n",
    "print('Overall Test accuracy:', scores[1])"
   ]
  },
  {
   "cell_type": "markdown",
   "id": "1f126ae8-3e32-4470-bff5-883f3d075392",
   "metadata": {},
   "source": [
    "#### Parameters used to tackle overfitting\n",
    "- Drop out regularization: In this case, At each training step, a certain percentage of neurons (e.g., 30%) is temporarily deactivated (set to zero output), forcing the network to learn robust representations insetad of relying on specific neurons. \n",
    "- l2 Regularization (Ridge): Adds a penalty to shrink the weights.\n",
    "- Early stop: The point where the raining stops when the model sense no further improvement\n",
    "- Patience: The extra chances give to the model for improvement\n",
    "- restore_best_weights: returns the best weights from the epcohs with early stopping."
   ]
  },
  {
   "cell_type": "code",
   "execution_count": 42,
   "id": "3710e35b-d1ab-4178-b823-bd91c76305cc",
   "metadata": {},
   "outputs": [
    {
     "name": "stdout",
     "output_type": "stream",
     "text": [
      "\u001b[1m77/77\u001b[0m \u001b[32m━━━━━━━━━━━━━━━━━━━━\u001b[0m\u001b[37m\u001b[0m \u001b[1m1s\u001b[0m 4ms/step\n"
     ]
    }
   ],
   "source": [
    "# predict Probabilities\n",
    "y_pred_proba= model.predict(X_test_preprocessed)"
   ]
  },
  {
   "cell_type": "markdown",
   "id": "0d3a03f5-551e-40e2-939a-a310c060e979",
   "metadata": {},
   "source": [
    "The outputs of a Neural network are probabilities for each class, so to view how well the model is evaluated, it is important to convert to class predictions."
   ]
  },
  {
   "cell_type": "code",
   "execution_count": 43,
   "id": "6f89ba06-d040-48c2-ac37-015fca9e082c",
   "metadata": {},
   "outputs": [
    {
     "name": "stdout",
     "output_type": "stream",
     "text": [
      "Evaluation on Test set\n"
     ]
    },
    {
     "data": {
      "text/html": [
       "<div>\n",
       "<style scoped>\n",
       "    .dataframe tbody tr th:only-of-type {\n",
       "        vertical-align: middle;\n",
       "    }\n",
       "\n",
       "    .dataframe tbody tr th {\n",
       "        vertical-align: top;\n",
       "    }\n",
       "\n",
       "    .dataframe thead th {\n",
       "        text-align: right;\n",
       "    }\n",
       "</style>\n",
       "<table border=\"1\" class=\"dataframe\">\n",
       "  <thead>\n",
       "    <tr style=\"text-align: right;\">\n",
       "      <th></th>\n",
       "      <th>model</th>\n",
       "      <th>Accuracy</th>\n",
       "      <th>Recall</th>\n",
       "      <th>F1 score</th>\n",
       "    </tr>\n",
       "  </thead>\n",
       "  <tbody>\n",
       "    <tr>\n",
       "      <th>0</th>\n",
       "      <td>Neural network</td>\n",
       "      <td>0.80</td>\n",
       "      <td>0.80</td>\n",
       "      <td>0.78</td>\n",
       "    </tr>\n",
       "  </tbody>\n",
       "</table>\n",
       "</div>"
      ],
      "text/plain": [
       "            model Accuracy Recall F1 score\n",
       "0  Neural network     0.80   0.80     0.78"
      ]
     },
     "execution_count": 43,
     "metadata": {},
     "output_type": "execute_result"
    }
   ],
   "source": [
    "# convert probabilities into class predictions for evaluation\n",
    "y_pred= np.argmax(y_pred_proba, axis=1)\n",
    "\n",
    "from sklearn.metrics import accuracy_score, recall_score, f1_score\n",
    "\n",
    "# Evaluating the model: callculating the metrics\n",
    "accuracy= accuracy_score(y_test, y_pred)\n",
    "recall= recall_score(y_test, y_pred, average='weighted')\n",
    "f1= f1_score(y_test, y_pred,  average='weighted')\n",
    "         \n",
    "# create an empty list to store results\n",
    "results=[]\n",
    "\n",
    "# append evaluation metrics to the result\n",
    "results.append({\n",
    "    'model': 'Neural network',\n",
    "    'Accuracy':f'{accuracy:.2f}' ,\n",
    "    'Recall': f'{recall:.2f}',\n",
    "    'F1 score': f'{f1:.2f}'\n",
    "})\n",
    "print('Evaluation on Test set')\n",
    "# display results in tabular form\n",
    "result_df= pd.DataFrame(results)\n",
    "result_df"
   ]
  },
  {
   "cell_type": "code",
   "execution_count": null,
   "id": "751636fd-9d01-4b34-aa0d-99eb8936a584",
   "metadata": {},
   "outputs": [],
   "source": []
  }
 ],
 "metadata": {
  "kernelspec": {
   "display_name": "Python 3 (ipykernel)",
   "language": "python",
   "name": "python3"
  },
  "language_info": {
   "codemirror_mode": {
    "name": "ipython",
    "version": 3
   },
   "file_extension": ".py",
   "mimetype": "text/x-python",
   "name": "python",
   "nbconvert_exporter": "python",
   "pygments_lexer": "ipython3",
   "version": "3.12.3"
  }
 },
 "nbformat": 4,
 "nbformat_minor": 5
}
